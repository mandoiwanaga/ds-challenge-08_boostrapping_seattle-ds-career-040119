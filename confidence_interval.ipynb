{
 "cells": [
  {
   "cell_type": "markdown",
   "metadata": {},
   "source": [
    "# Bootstrap Challenge: Confidence Interval of Goals Allowed"
   ]
  },
  {
   "cell_type": "markdown",
   "metadata": {},
   "source": [
    "### Getting Data from PostgreSQL DB"
   ]
  },
  {
   "cell_type": "markdown",
   "metadata": {},
   "source": [
    "Prior to this we have successfull obtained our dataset from Kaggle and migrated it from a `sqlite` database to a `PostgreSQL` database. Now we can query from it using the `psycopg2` package."
   ]
  },
  {
   "cell_type": "markdown",
   "metadata": {},
   "source": [
    "#### Required Packages"
   ]
  },
  {
   "cell_type": "code",
   "execution_count": 35,
   "metadata": {},
   "outputs": [],
   "source": [
    "import pandas as pd       # Data manipulation\n",
    "import psycopg2           # Query against psql dbs\n",
    "import numpy as np        # math and arrays\n",
    "import matplotlib.pyplot as plt# plotting\n",
    "from scipy import stats\n",
    "import scipy\n",
    "import seaborn as sns"
   ]
  },
  {
   "cell_type": "markdown",
   "metadata": {},
   "source": [
    "#### Create Connection\n",
    "\n",
    "We stored out data in a `PostgreSQL` database named `soccer`."
   ]
  },
  {
   "cell_type": "code",
   "execution_count": 15,
   "metadata": {},
   "outputs": [],
   "source": [
    "conn = psycopg2.connect(\"dbname=soccer\")"
   ]
  },
  {
   "cell_type": "markdown",
   "metadata": {},
   "source": [
    "---"
   ]
  },
  {
   "cell_type": "markdown",
   "metadata": {},
   "source": [
    "---"
   ]
  },
  {
   "cell_type": "markdown",
   "metadata": {},
   "source": [
    "### Set up queries\n",
    "\n",
    "We will write queries for each of our proposed hypothesis tests."
   ]
  },
  {
   "cell_type": "markdown",
   "metadata": {},
   "source": [
    "#### 2) Impact of defence aggression on average allowed goals. "
   ]
  },
  {
   "cell_type": "code",
   "execution_count": 16,
   "metadata": {},
   "outputs": [],
   "source": [
    "query_2 = \"\"\"\n",
    "    /* Home Teams */\n",
    "    select \n",
    "        country_name, league_name, team_short_name \n",
    "        ,team_long_name, season, stage, match_date\n",
    "        ,goals_allowed\n",
    "        ,team_def_aggr_rating\n",
    "        ,team_def_aggr_scale\n",
    "        ,'H' as home_or_away\n",
    "    from\n",
    "    (\n",
    "    select\n",
    "        c.name as country_name\n",
    "        ,l.name as league_name\n",
    "        ,ht.team_short_name \n",
    "        ,ht.team_long_name \n",
    "        ,m.season, m.stage, m.date as match_date, m.match_api_id\n",
    "        ,m.away_team_goal as goals_allowed\n",
    "        ,hta.defenceaggression as team_def_aggr_rating\n",
    "        ,hta.defenceaggressionclass as team_def_aggr_scale\n",
    "        ,row_number() over (partition by m.home_team_api_id, m.date\n",
    "            order by to_date(hta.date, 'yyyy-mm-dd')) as enumer\n",
    "    from\n",
    "        match m\n",
    "        inner join country c on m.country_id = c.id\n",
    "        inner join league l on m.league_id = l.id\n",
    "        inner join team ht on m.home_team_api_id = ht.team_api_id\n",
    "        inner join team_attributes hta on hta.team_api_id = m.home_team_api_id\n",
    "            and to_date(m.date, 'yyyy-mm-dd') \n",
    "                <= to_date(hta.date, 'yyyy-mm-dd') \n",
    "    ) ranked\n",
    "    where \n",
    "        enumer = 1\n",
    "        \n",
    "    union all\n",
    "    \n",
    "    /* Away teams */\n",
    "    select \n",
    "        country_name, league_name, team_short_name \n",
    "        ,team_long_name, season, stage, match_date\n",
    "        ,goals_allowed\n",
    "        ,team_def_aggr_rating\n",
    "        ,team_def_aggr_scale\n",
    "        ,'A' as home_or_away\n",
    "    from\n",
    "    (\n",
    "    select\n",
    "        c.name as country_name\n",
    "        ,l.name as league_name\n",
    "        ,at.team_short_name \n",
    "        ,at.team_long_name \n",
    "        ,m.season, m.stage, m.date as match_date, m.match_api_id\n",
    "        ,m.home_team_goal as goals_allowed\n",
    "        ,ata.defenceaggression as team_def_aggr_rating\n",
    "        ,ata.defenceaggressionclass as team_def_aggr_scale\n",
    "        ,row_number() over (partition by m.home_team_api_id, m.date\n",
    "            order by to_date(ata.date, 'yyyy-mm-dd')) as enumer\n",
    "    from\n",
    "        match m\n",
    "        inner join country c on m.country_id = c.id\n",
    "        inner join league l on m.league_id = l.id\n",
    "        inner join team at on m.away_team_api_id = at.team_api_id\n",
    "        inner join team_attributes ata on ata.team_api_id = m.home_team_api_id\n",
    "            and to_date(m.date, 'yyyy-mm-dd') \n",
    "                <= to_date(ata.date, 'yyyy-mm-dd') \n",
    "    ) ranked\n",
    "    where \n",
    "        enumer = 1\n",
    ";\n",
    "\"\"\""
   ]
  },
  {
   "cell_type": "markdown",
   "metadata": {},
   "source": [
    "### Run queries, put contents into pandas DataFrame"
   ]
  },
  {
   "cell_type": "code",
   "execution_count": 17,
   "metadata": {},
   "outputs": [],
   "source": [
    "cur = conn.cursor()\n",
    "cur.execute(query_2)"
   ]
  },
  {
   "cell_type": "code",
   "execution_count": 18,
   "metadata": {},
   "outputs": [],
   "source": [
    "soccer = pd.DataFrame(cur.fetchall())\n",
    "soccer.columns = [desc[0] for desc in cur.description]"
   ]
  },
  {
   "cell_type": "code",
   "execution_count": 19,
   "metadata": {},
   "outputs": [
    {
     "name": "stdout",
     "output_type": "stream",
     "text": [
      "<class 'pandas.core.frame.DataFrame'>\n",
      "RangeIndex: 45494 entries, 0 to 45493\n",
      "Data columns (total 11 columns):\n",
      "country_name            45494 non-null object\n",
      "league_name             45494 non-null object\n",
      "team_short_name         45494 non-null object\n",
      "team_long_name          45494 non-null object\n",
      "season                  45494 non-null object\n",
      "stage                   45494 non-null int64\n",
      "match_date              45494 non-null object\n",
      "goals_allowed           45494 non-null int64\n",
      "team_def_aggr_rating    45494 non-null int64\n",
      "team_def_aggr_scale     45494 non-null object\n",
      "home_or_away            45494 non-null object\n",
      "dtypes: int64(3), object(8)\n",
      "memory usage: 3.8+ MB\n"
     ]
    }
   ],
   "source": [
    "soccer.info()"
   ]
  },
  {
   "cell_type": "code",
   "execution_count": 20,
   "metadata": {},
   "outputs": [
    {
     "data": {
      "text/html": [
       "<div>\n",
       "<style scoped>\n",
       "    .dataframe tbody tr th:only-of-type {\n",
       "        vertical-align: middle;\n",
       "    }\n",
       "\n",
       "    .dataframe tbody tr th {\n",
       "        vertical-align: top;\n",
       "    }\n",
       "\n",
       "    .dataframe thead th {\n",
       "        text-align: right;\n",
       "    }\n",
       "</style>\n",
       "<table border=\"1\" class=\"dataframe\">\n",
       "  <thead>\n",
       "    <tr style=\"text-align: right;\">\n",
       "      <th></th>\n",
       "      <th>0</th>\n",
       "      <th>1</th>\n",
       "      <th>2</th>\n",
       "      <th>3</th>\n",
       "      <th>4</th>\n",
       "      <th>5</th>\n",
       "      <th>6</th>\n",
       "      <th>7</th>\n",
       "      <th>8</th>\n",
       "      <th>9</th>\n",
       "    </tr>\n",
       "  </thead>\n",
       "  <tbody>\n",
       "    <tr>\n",
       "      <th>country_name</th>\n",
       "      <td>Poland</td>\n",
       "      <td>Poland</td>\n",
       "      <td>Poland</td>\n",
       "      <td>Poland</td>\n",
       "      <td>Poland</td>\n",
       "      <td>Poland</td>\n",
       "      <td>Poland</td>\n",
       "      <td>Poland</td>\n",
       "      <td>Poland</td>\n",
       "      <td>Poland</td>\n",
       "    </tr>\n",
       "    <tr>\n",
       "      <th>league_name</th>\n",
       "      <td>Poland Ekstraklasa</td>\n",
       "      <td>Poland Ekstraklasa</td>\n",
       "      <td>Poland Ekstraklasa</td>\n",
       "      <td>Poland Ekstraklasa</td>\n",
       "      <td>Poland Ekstraklasa</td>\n",
       "      <td>Poland Ekstraklasa</td>\n",
       "      <td>Poland Ekstraklasa</td>\n",
       "      <td>Poland Ekstraklasa</td>\n",
       "      <td>Poland Ekstraklasa</td>\n",
       "      <td>Poland Ekstraklasa</td>\n",
       "    </tr>\n",
       "    <tr>\n",
       "      <th>team_short_name</th>\n",
       "      <td>CHO</td>\n",
       "      <td>CHO</td>\n",
       "      <td>CHO</td>\n",
       "      <td>CHO</td>\n",
       "      <td>CHO</td>\n",
       "      <td>CHO</td>\n",
       "      <td>CHO</td>\n",
       "      <td>CHO</td>\n",
       "      <td>CHO</td>\n",
       "      <td>CHO</td>\n",
       "    </tr>\n",
       "    <tr>\n",
       "      <th>team_long_name</th>\n",
       "      <td>Ruch Chorzów</td>\n",
       "      <td>Ruch Chorzów</td>\n",
       "      <td>Ruch Chorzów</td>\n",
       "      <td>Ruch Chorzów</td>\n",
       "      <td>Ruch Chorzów</td>\n",
       "      <td>Ruch Chorzów</td>\n",
       "      <td>Ruch Chorzów</td>\n",
       "      <td>Ruch Chorzów</td>\n",
       "      <td>Ruch Chorzów</td>\n",
       "      <td>Ruch Chorzów</td>\n",
       "    </tr>\n",
       "    <tr>\n",
       "      <th>season</th>\n",
       "      <td>2008/2009</td>\n",
       "      <td>2008/2009</td>\n",
       "      <td>2008/2009</td>\n",
       "      <td>2008/2009</td>\n",
       "      <td>2008/2009</td>\n",
       "      <td>2008/2009</td>\n",
       "      <td>2008/2009</td>\n",
       "      <td>2008/2009</td>\n",
       "      <td>2008/2009</td>\n",
       "      <td>2008/2009</td>\n",
       "    </tr>\n",
       "    <tr>\n",
       "      <th>stage</th>\n",
       "      <td>2</td>\n",
       "      <td>3</td>\n",
       "      <td>5</td>\n",
       "      <td>7</td>\n",
       "      <td>9</td>\n",
       "      <td>12</td>\n",
       "      <td>13</td>\n",
       "      <td>15</td>\n",
       "      <td>16</td>\n",
       "      <td>18</td>\n",
       "    </tr>\n",
       "    <tr>\n",
       "      <th>match_date</th>\n",
       "      <td>2008-08-16 00:00:00</td>\n",
       "      <td>2008-08-22 00:00:00</td>\n",
       "      <td>2008-09-12 00:00:00</td>\n",
       "      <td>2008-09-27 00:00:00</td>\n",
       "      <td>2008-10-19 00:00:00</td>\n",
       "      <td>2008-11-08 00:00:00</td>\n",
       "      <td>2008-11-11 00:00:00</td>\n",
       "      <td>2008-11-21 00:00:00</td>\n",
       "      <td>2008-11-29 00:00:00</td>\n",
       "      <td>2009-02-28 00:00:00</td>\n",
       "    </tr>\n",
       "    <tr>\n",
       "      <th>goals_allowed</th>\n",
       "      <td>1</td>\n",
       "      <td>1</td>\n",
       "      <td>0</td>\n",
       "      <td>0</td>\n",
       "      <td>0</td>\n",
       "      <td>0</td>\n",
       "      <td>2</td>\n",
       "      <td>1</td>\n",
       "      <td>0</td>\n",
       "      <td>1</td>\n",
       "    </tr>\n",
       "    <tr>\n",
       "      <th>team_def_aggr_rating</th>\n",
       "      <td>60</td>\n",
       "      <td>60</td>\n",
       "      <td>60</td>\n",
       "      <td>60</td>\n",
       "      <td>60</td>\n",
       "      <td>60</td>\n",
       "      <td>60</td>\n",
       "      <td>60</td>\n",
       "      <td>60</td>\n",
       "      <td>60</td>\n",
       "    </tr>\n",
       "    <tr>\n",
       "      <th>team_def_aggr_scale</th>\n",
       "      <td>Press</td>\n",
       "      <td>Press</td>\n",
       "      <td>Press</td>\n",
       "      <td>Press</td>\n",
       "      <td>Press</td>\n",
       "      <td>Press</td>\n",
       "      <td>Press</td>\n",
       "      <td>Press</td>\n",
       "      <td>Press</td>\n",
       "      <td>Press</td>\n",
       "    </tr>\n",
       "    <tr>\n",
       "      <th>home_or_away</th>\n",
       "      <td>H</td>\n",
       "      <td>H</td>\n",
       "      <td>H</td>\n",
       "      <td>H</td>\n",
       "      <td>H</td>\n",
       "      <td>H</td>\n",
       "      <td>H</td>\n",
       "      <td>H</td>\n",
       "      <td>H</td>\n",
       "      <td>H</td>\n",
       "    </tr>\n",
       "  </tbody>\n",
       "</table>\n",
       "</div>"
      ],
      "text/plain": [
       "                                        0                    1  \\\n",
       "country_name                       Poland               Poland   \n",
       "league_name            Poland Ekstraklasa   Poland Ekstraklasa   \n",
       "team_short_name                       CHO                  CHO   \n",
       "team_long_name               Ruch Chorzów         Ruch Chorzów   \n",
       "season                          2008/2009            2008/2009   \n",
       "stage                                   2                    3   \n",
       "match_date            2008-08-16 00:00:00  2008-08-22 00:00:00   \n",
       "goals_allowed                           1                    1   \n",
       "team_def_aggr_rating                   60                   60   \n",
       "team_def_aggr_scale                 Press                Press   \n",
       "home_or_away                            H                    H   \n",
       "\n",
       "                                        2                    3  \\\n",
       "country_name                       Poland               Poland   \n",
       "league_name            Poland Ekstraklasa   Poland Ekstraklasa   \n",
       "team_short_name                       CHO                  CHO   \n",
       "team_long_name               Ruch Chorzów         Ruch Chorzów   \n",
       "season                          2008/2009            2008/2009   \n",
       "stage                                   5                    7   \n",
       "match_date            2008-09-12 00:00:00  2008-09-27 00:00:00   \n",
       "goals_allowed                           0                    0   \n",
       "team_def_aggr_rating                   60                   60   \n",
       "team_def_aggr_scale                 Press                Press   \n",
       "home_or_away                            H                    H   \n",
       "\n",
       "                                        4                    5  \\\n",
       "country_name                       Poland               Poland   \n",
       "league_name            Poland Ekstraklasa   Poland Ekstraklasa   \n",
       "team_short_name                       CHO                  CHO   \n",
       "team_long_name               Ruch Chorzów         Ruch Chorzów   \n",
       "season                          2008/2009            2008/2009   \n",
       "stage                                   9                   12   \n",
       "match_date            2008-10-19 00:00:00  2008-11-08 00:00:00   \n",
       "goals_allowed                           0                    0   \n",
       "team_def_aggr_rating                   60                   60   \n",
       "team_def_aggr_scale                 Press                Press   \n",
       "home_or_away                            H                    H   \n",
       "\n",
       "                                        6                    7  \\\n",
       "country_name                       Poland               Poland   \n",
       "league_name            Poland Ekstraklasa   Poland Ekstraklasa   \n",
       "team_short_name                       CHO                  CHO   \n",
       "team_long_name               Ruch Chorzów         Ruch Chorzów   \n",
       "season                          2008/2009            2008/2009   \n",
       "stage                                  13                   15   \n",
       "match_date            2008-11-11 00:00:00  2008-11-21 00:00:00   \n",
       "goals_allowed                           2                    1   \n",
       "team_def_aggr_rating                   60                   60   \n",
       "team_def_aggr_scale                 Press                Press   \n",
       "home_or_away                            H                    H   \n",
       "\n",
       "                                        8                    9  \n",
       "country_name                       Poland               Poland  \n",
       "league_name            Poland Ekstraklasa   Poland Ekstraklasa  \n",
       "team_short_name                       CHO                  CHO  \n",
       "team_long_name               Ruch Chorzów         Ruch Chorzów  \n",
       "season                          2008/2009            2008/2009  \n",
       "stage                                  16                   18  \n",
       "match_date            2008-11-29 00:00:00  2009-02-28 00:00:00  \n",
       "goals_allowed                           0                    1  \n",
       "team_def_aggr_rating                   60                   60  \n",
       "team_def_aggr_scale                 Press                Press  \n",
       "home_or_away                            H                    H  "
      ]
     },
     "execution_count": 20,
     "metadata": {},
     "output_type": "execute_result"
    }
   ],
   "source": [
    "soccer.head(10).T"
   ]
  },
  {
   "cell_type": "code",
   "execution_count": 23,
   "metadata": {},
   "outputs": [],
   "source": [
    "soccer_team_def_goals = soccer[['team_def_aggr_rating', 'goals_allowed']]"
   ]
  },
  {
   "cell_type": "code",
   "execution_count": 24,
   "metadata": {},
   "outputs": [
    {
     "data": {
      "text/html": [
       "<div>\n",
       "<style scoped>\n",
       "    .dataframe tbody tr th:only-of-type {\n",
       "        vertical-align: middle;\n",
       "    }\n",
       "\n",
       "    .dataframe tbody tr th {\n",
       "        vertical-align: top;\n",
       "    }\n",
       "\n",
       "    .dataframe thead th {\n",
       "        text-align: right;\n",
       "    }\n",
       "</style>\n",
       "<table border=\"1\" class=\"dataframe\">\n",
       "  <thead>\n",
       "    <tr style=\"text-align: right;\">\n",
       "      <th></th>\n",
       "      <th>team_def_aggr_rating</th>\n",
       "      <th>goals_allowed</th>\n",
       "    </tr>\n",
       "  </thead>\n",
       "  <tbody>\n",
       "    <tr>\n",
       "      <th>139</th>\n",
       "      <td>70</td>\n",
       "      <td>3</td>\n",
       "    </tr>\n",
       "    <tr>\n",
       "      <th>140</th>\n",
       "      <td>70</td>\n",
       "      <td>0</td>\n",
       "    </tr>\n",
       "    <tr>\n",
       "      <th>141</th>\n",
       "      <td>70</td>\n",
       "      <td>2</td>\n",
       "    </tr>\n",
       "    <tr>\n",
       "      <th>142</th>\n",
       "      <td>70</td>\n",
       "      <td>2</td>\n",
       "    </tr>\n",
       "    <tr>\n",
       "      <th>143</th>\n",
       "      <td>70</td>\n",
       "      <td>0</td>\n",
       "    </tr>\n",
       "  </tbody>\n",
       "</table>\n",
       "</div>"
      ],
      "text/plain": [
       "     team_def_aggr_rating  goals_allowed\n",
       "139                    70              3\n",
       "140                    70              0\n",
       "141                    70              2\n",
       "142                    70              2\n",
       "143                    70              0"
      ]
     },
     "execution_count": 24,
     "metadata": {},
     "output_type": "execute_result"
    }
   ],
   "source": [
    "team_65 = soccer_team_def_goals[soccer.team_def_aggr_rating >= 65]\n",
    "team_65.head()"
   ]
  },
  {
   "cell_type": "code",
   "execution_count": 25,
   "metadata": {},
   "outputs": [
    {
     "data": {
      "text/plain": [
       "5718"
      ]
     },
     "execution_count": 25,
     "metadata": {},
     "output_type": "execute_result"
    }
   ],
   "source": [
    "len(team_65)"
   ]
  },
  {
   "cell_type": "code",
   "execution_count": 26,
   "metadata": {},
   "outputs": [],
   "source": [
    "sample_size = 50\n",
    "trials = 100"
   ]
  },
  {
   "cell_type": "code",
   "execution_count": 27,
   "metadata": {},
   "outputs": [],
   "source": [
    "np.random.seed(1234)\n",
    "sample = np.random.choice(team_65['goals_allowed'], size=sample_size, replace=False)"
   ]
  },
  {
   "cell_type": "code",
   "execution_count": null,
   "metadata": {},
   "outputs": [],
   "source": [
    "np.random.seed(1234)\n",
    "sample_goals = []\n",
    "for _ in range(trials):\n",
    "    sample_goals.append(np.mean(np.random.choice(team_65['goals_allowed'], size=sample_size, replace=False)))"
   ]
  },
  {
   "cell_type": "code",
   "execution_count": 31,
   "metadata": {},
   "outputs": [
    {
     "data": {
      "text/plain": [
       "[1.06, 1.38, 1.66, 1.16, 1.1, 1.34, 1.3, 1.18, 1.28, 1.08]"
      ]
     },
     "execution_count": 31,
     "metadata": {},
     "output_type": "execute_result"
    }
   ],
   "source": [
    "sample_goals[:10]"
   ]
  },
  {
   "cell_type": "markdown",
   "metadata": {},
   "source": [
    "**Confidence Interval for goals allowed**"
   ]
  },
  {
   "cell_type": "code",
   "execution_count": 39,
   "metadata": {},
   "outputs": [],
   "source": [
    "lower = np.percentile(a=sample_goals, q=2.5)\n",
    "upper = np.percentile(a=sample_goals, q=97.5)"
   ]
  },
  {
   "cell_type": "code",
   "execution_count": 55,
   "metadata": {},
   "outputs": [
    {
     "name": "stderr",
     "output_type": "stream",
     "text": [
      "/anaconda3/envs/learn-env/lib/python3.6/site-packages/scipy/stats/stats.py:1713: FutureWarning: Using a non-tuple sequence for multidimensional indexing is deprecated; use `arr[tuple(seq)]` instead of `arr[seq]`. In the future this will be interpreted as an array index, `arr[np.array(seq)]`, which will result either in an error or a different result.\n",
      "  return np.add.reduce(sorted[indexer] * weights, axis=axis) / sumval\n"
     ]
    },
    {
     "data": {
      "text/plain": [
       "Text(0, 0.5, 'Samples')"
      ]
     },
     "execution_count": 55,
     "metadata": {},
     "output_type": "execute_result"
    },
    {
     "data": {
      "image/png": "[encoded data removed]",
      "text/plain": [
       "<Figure size 864x576 with 1 Axes>"
      ]
     },
     "metadata": {},
     "output_type": "display_data"
    }
   ],
   "source": [
    "sns.set(rc={'figure.figsize':(12,8)})\n",
    "sns.distplot(sample_goals)\n",
    "plt.axvline(lower, color='green', linestyle='--')\n",
    "plt.axvline(upper, color='red', linestyle='--')\n",
    "plt.title('Confidence Interval on Goals Allowed', fontsize=20)\n",
    "plt.xlabel('Average Goals Allowed', fontsize=15)\n",
    "plt.ylabel('Samples', fontsize=15)"
   ]
  },
  {
   "cell_type": "markdown",
   "metadata": {},
   "source": [
    "## The 95% Confidence Interval of Goals Allowed is 1.04 to 1.62"
   ]
  },
  {
   "cell_type": "code",
   "execution_count": null,
   "metadata": {},
   "outputs": [],
   "source": []
  }
 ],
 "metadata": {
  "kernelspec": {
   "display_name": "learn-env",
   "language": "python",
   "name": "learn-env"
  },
  "language_info": {
   "codemirror_mode": {
    "name": "ipython",
    "version": 3
   },
   "file_extension": ".py",
   "mimetype": "text/x-python",
   "name": "python",
   "nbconvert_exporter": "python",
   "pygments_lexer": "ipython3",
   "version": "3.6.6"
  }
 },
 "nbformat": 4,
 "nbformat_minor": 2
}
